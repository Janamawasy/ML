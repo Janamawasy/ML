{
  "nbformat": 4,
  "nbformat_minor": 0,
  "metadata": {
    "colab": {
      "provenance": [],
      "authorship_tag": "ABX9TyPA7rW9e5AM7cxRSC6kC0ft",
      "include_colab_link": true
    },
    "kernelspec": {
      "name": "python3",
      "display_name": "Python 3"
    },
    "language_info": {
      "name": "python"
    }
  },
  "cells": [
    {
      "cell_type": "markdown",
      "metadata": {
        "id": "view-in-github",
        "colab_type": "text"
      },
      "source": [
        "<a href=\"https://colab.research.google.com/github/Janamawasy/ML/blob/main/draft_titanic_comp.ipynb\" target=\"_parent\"><img src=\"https://colab.research.google.com/assets/colab-badge.svg\" alt=\"Open In Colab\"/></a>"
      ]
    },
    {
      "cell_type": "code",
      "execution_count": 1,
      "metadata": {
        "colab": {
          "base_uri": "https://localhost:8080/",
          "height": 36
        },
        "id": "xIYne9eXjY7H",
        "outputId": "72312845-6f11-408d-8fde-0113e010a20d"
      },
      "outputs": [
        {
          "output_type": "execute_result",
          "data": {
            "text/plain": [
              "'2.15.0'"
            ],
            "application/vnd.google.colaboratory.intrinsic+json": {
              "type": "string"
            }
          },
          "metadata": {},
          "execution_count": 1
        }
      ],
      "source": [
        "import numpy as np\n",
        "import pandas as pd\n",
        "import tensorflow as tf\n",
        "from datetime import datetime\n",
        "tf.__version__"
      ]
    },
    {
      "cell_type": "code",
      "source": [
        "# -------------- code - acc=0.85   score-0.76\n",
        "\n",
        "train = pd.read_csv('train (1).csv')\n",
        "test = pd.read_csv('test (1).csv')\n",
        "y_test_data = pd.read_csv('gender_submission.csv')\n",
        "\n",
        "\n",
        "all_data = pd.concat([train, test], ignore_index=True)\n",
        "all_data = all_data.dropna(subset='Embarked')\n",
        "all_data['Age'] = all_data['Age'].fillna(-1)\n",
        "all_data['Fare'] = all_data['Fare'].fillna(all_data['Fare'].median())\n",
        "\n",
        "# # split cabin to number and letter(floor)\n",
        "all_data['Floor'] = all_data['Cabin'].str.extract('([a-zA-Z]+)', expand=False)\n",
        "all_data['Room_Num'] = all_data['Cabin'].str.extract('(\\d+)', expand=False)\n",
        "all_data['Room_Num'] = all_data['Room_Num'].fillna(-1).astype(int)\n",
        "all_data['Floor'] = all_data['Floor'].fillna(-1)\n",
        "all_data = all_data.drop(columns=['Cabin', 'Name','PassengerId'])\n",
        "\n",
        "all_data.isna().sum()\n",
        "\n",
        "\n",
        "# label encoding\n",
        "from sklearn.preprocessing import LabelEncoder, OneHotEncoder\n",
        "from sklearn.compose import ColumnTransformer\n",
        "\n",
        "le = LabelEncoder()\n",
        "all_data['Sex'] = le.fit_transform(all_data['Sex'])\n",
        "all_data['Ticket'] = le.fit_transform(all_data['Ticket'])\n",
        "# FLOOR NUMBER\n",
        "category_mapping = {'A': 1, 'B': 2, 'C': 3, 'D': 4, 'E': 5,'F': 6,'G': 7,'T': 8, -1:-1}\n",
        "\n",
        "# Use the map function to replace categories with numerical values\n",
        "all_data['Floor'] = all_data['Floor'].map(category_mapping)\n",
        "\n",
        "\n",
        "# One Hot Encoding\n",
        "ct = ColumnTransformer(transformers=[('encoder', OneHotEncoder(), ['Embarked'])], remainder='passthrough')\n",
        "all_data = pd.DataFrame(ct.fit_transform(all_data))\n",
        "\n",
        "\n",
        "# split the data - remove passenger id\n",
        "# x_train = all_data[0:len(train)-2,:]\n",
        "# y_train = [0:len(train)-2,0]\n",
        "\n",
        "Survived_col = 3\n",
        "nan_indexes = np.where(np.isnan(all_data.iloc[:, Survived_col]))[0][0]\n",
        "limit = nan_indexes\n",
        "x_train = all_data.iloc[0:limit,:]\n",
        "y_train = all_data.iloc[0:limit,Survived_col]\n",
        "\n",
        "x_test = all_data.iloc[limit:,:]\n",
        "y_test = all_data.iloc[limit:,Survived_col]\n",
        "\n",
        "# remove Survived_col from x\n",
        "x_test = x_test.drop(columns=Survived_col)\n",
        "x_train = x_train.drop(columns=Survived_col)\n",
        "\n"
      ],
      "metadata": {
        "id": "Z7aThSenr7XT"
      },
      "execution_count": 59,
      "outputs": []
    },
    {
      "cell_type": "code",
      "source": [
        "# ------------------------------ANN MODEL------------------------------------\n",
        "from sklearn.model_selection import train_test_split\n",
        "\n",
        "# scaling data - normilizing\n",
        "from sklearn.preprocessing import StandardScaler\n",
        "sc = StandardScaler()\n",
        "x_train = sc.fit_transform(x_train)\n",
        "x_test = sc.fit_transform(x_test)\n",
        "\n",
        "#Training\n",
        "\n",
        "#Init the ANN\n",
        "ann = tf.keras.models.Sequential()\n",
        "\n",
        "ann.add(tf.keras.layers.Dense(units=6, activation='relu'))\n",
        "ann.add(tf.keras.layers.Dense(units=6, activation='relu'))\n",
        "ann.add(tf.keras.layers.Dense(units=6, activation='relu'))\n",
        "ann.add(tf.keras.layers.Dense(units=1, activation='sigmoid'))\n",
        "\n",
        "ann.compile(optimizer='adam', loss='binary_crossentropy', metrics= ['accuracy'])\n",
        "\n",
        "# Actual training\n",
        "ann.fit(x_train, y_train, batch_size=32, epochs=100)\n",
        "\n",
        "y_pred = ann.predict(x_test)\n",
        "\n",
        "from sklearn.metrics import multilabel_confusion_matrix,accuracy_score, confusion_matrix\n",
        "\n",
        "y_binary_pred = np.where(y_pred > 0.5, 1, 0)\n",
        "\n",
        "y_test = y_test_data['Survived']\n",
        "cm = confusion_matrix(y_test,y_binary_pred)\n",
        "acc = accuracy_score(y_test,y_binary_pred)\n",
        "\n",
        "print(cm)\n",
        "print('acc is:', acc)\n",
        "\n",
        "import csv\n",
        "\n",
        "# Sample data\n",
        "passenger_ids = test['PassengerId'].values\n",
        "\n",
        "# Create a DataFrame from the given data\n",
        "data = pd.DataFrame({\n",
        "    'PassengerId': passenger_ids,\n",
        "    'Survived': y_binary_pred.flatten()  # Flatten the array to match the shape\n",
        "})\n",
        "\n",
        "# Specify the file path\n",
        "csv_file_path = 'output.csv'\n",
        "\n",
        "# Write the DataFrame to a CSV file\n",
        "data.to_csv(csv_file_path, index=False)\n",
        "\n",
        "from google.colab import files\n",
        "\n",
        "files.download('output.csv')\n",
        "\n",
        "\n"
      ],
      "metadata": {
        "id": "oFUbNskusbs8"
      },
      "execution_count": null,
      "outputs": []
    },
    {
      "cell_type": "code",
      "source": [
        "# ----------- new features\n",
        "train = pd.read_csv('train (1).csv')\n",
        "test = pd.read_csv('test (1).csv')\n",
        "y_test_data = pd.read_csv('gender_submission.csv')"
      ],
      "metadata": {
        "id": "jo-k0_DHjtFi"
      },
      "execution_count": 177,
      "outputs": []
    },
    {
      "cell_type": "code",
      "source": [
        "# fill nan in age and cabin with -1\n",
        "# drop passengerid, name,\n",
        "# label encoder : sex, Ticket\n",
        "# one hot encoded : embarked,\n",
        "# split cabin to number and letter(floor) => label encoding to the letter\n",
        "\n",
        "# tickets => split it to str and num\n",
        "# @@ cabins => convert the floor to number c=3000...\n",
        "# family members => SibSp\t+ Parch + 1"
      ],
      "metadata": {
        "colab": {
          "base_uri": "https://localhost:8080/"
        },
        "id": "AJukC92txcIq",
        "outputId": "f53289c8-bdda-4292-9fa9-980d6051c3f7"
      },
      "execution_count": null,
      "outputs": [
        {
          "output_type": "execute_result",
          "data": {
            "text/plain": [
              "array([-1, 'C', 'E', 'G', 'D', 'A', 'B', 'F', 'T'], dtype=object)"
            ]
          },
          "metadata": {},
          "execution_count": 89
        }
      ]
    },
    {
      "cell_type": "code",
      "source": [
        "all_data = pd.concat([train, test], ignore_index=True)\n",
        "all_data = all_data.dropna(subset='Embarked')\n",
        "all_data['Age'] = all_data['Age'].fillna(-1)\n",
        "all_data['Fare'] = all_data['Fare'].fillna(all_data['Fare'].median())\n",
        "\n",
        "# # split cabin to number and letter(floor)\n",
        "all_data['Floor'] = all_data['Cabin'].str.extract('([a-zA-Z]+)', expand=False)\n",
        "all_data['Room'] = all_data['Cabin'].str.extract('(\\d+)', expand=False)\n",
        "all_data['Room'] = all_data['Room'].fillna(-1).astype(int)\n",
        "all_data['Floor'] = all_data['Floor'].fillna(-1)\n",
        "\n",
        "# Mapping dictionary for the alphabetic part\n",
        "floor_mapping = {'A': 1000, 'B': 2000, 'C': 3000, 'D': 4000, 'E': 5000, 'F': 6000, 'G': 7000, 'H': 8000}\n",
        "\n",
        "# Map alphabetic part to numerical values\n",
        "all_data['Room_Num'] = all_data['Floor'].map(floor_mapping) + all_data['Room']\n",
        "all_data['Room_Num'] = all_data['Room_Num'].fillna(-1)\n",
        "\n",
        "\n",
        "all_data['Tick_str'] = all_data['Ticket'].str.extract('([a-zA-Z]+)', expand=False)\n",
        "all_data['Tick_num'] = all_data['Ticket'].str.extract('(\\d+)', expand=False)\n",
        "all_data['Tick_str'] = all_data['Tick_str'].fillna('')\n",
        "all_data['Tick_num'] = all_data['Tick_num'].fillna(-1)\n",
        "\n",
        "all_data['Fam_mem'] = all_data['SibSp'] + all_data['Parch'] + 1\n",
        "\n",
        "all_data = all_data.drop(columns=['Cabin','Name','PassengerId','Ticket'])\n",
        "\n",
        "all_data.isna().sum()\n"
      ],
      "metadata": {
        "colab": {
          "base_uri": "https://localhost:8080/"
        },
        "id": "4IXeXFZNyYD3",
        "outputId": "e2ad277e-9ed5-4b8d-8d6d-091efe6a7ca8"
      },
      "execution_count": 206,
      "outputs": [
        {
          "output_type": "execute_result",
          "data": {
            "text/plain": [
              "Survived    418\n",
              "Pclass        0\n",
              "Sex           0\n",
              "Age           0\n",
              "SibSp         0\n",
              "Parch         0\n",
              "Fare          0\n",
              "Embarked      0\n",
              "Floor         0\n",
              "Room          0\n",
              "Room_Num      0\n",
              "Tick_str      0\n",
              "Tick_num      0\n",
              "Fam_mem       0\n",
              "dtype: int64"
            ]
          },
          "metadata": {},
          "execution_count": 206
        }
      ]
    },
    {
      "cell_type": "code",
      "source": [
        "# label encoding\n",
        "from sklearn.preprocessing import LabelEncoder, OneHotEncoder\n",
        "from sklearn.compose import ColumnTransformer\n",
        "\n",
        "le = LabelEncoder()\n",
        "all_data['Sex'] = le.fit_transform(all_data['Sex'])\n",
        "all_data['Tick_str'] = le.fit_transform(all_data['Tick_str'])\n",
        "# FLOOR NUMBER\n",
        "category_mapping = {'A': 1, 'B': 2, 'C': 3, 'D': 4, 'E': 5,'F': 6,'G': 7,'T': 8, -1:-1}\n",
        "\n",
        "# Use the map function to replace categories with numerical values\n",
        "all_data['Floor'] = all_data['Floor'].map(category_mapping)\n"
      ],
      "metadata": {
        "id": "SVnQ0kAv3VGz"
      },
      "execution_count": 207,
      "outputs": []
    },
    {
      "cell_type": "code",
      "source": [
        "# One Hot Encoding\n",
        "ct = ColumnTransformer(transformers=[('encoder', OneHotEncoder(), ['Embarked'])], remainder='passthrough')\n",
        "all_data = pd.DataFrame(ct.fit_transform(all_data))"
      ],
      "metadata": {
        "id": "Umc_r7_SBI3A"
      },
      "execution_count": 208,
      "outputs": []
    },
    {
      "cell_type": "code",
      "source": [
        "# split the data - remove passenger id\n",
        "# x_train = all_data[0:len(train)-2,:]\n",
        "# y_train = [0:len(train)-2,0]\n",
        "\n",
        "Survived_col = 3\n",
        "nan_indexes = np.where(pd.isna(all_data.iloc[:,Survived_col]))[0][0]\n",
        "\n",
        "limit = nan_indexes\n",
        "x_train = all_data.iloc[0:limit,:]\n",
        "y_train = all_data.iloc[0:limit,Survived_col]\n",
        "\n",
        "x_test = all_data.iloc[limit:,:]\n",
        "y_test = all_data.iloc[limit:,Survived_col]\n",
        "\n",
        "# remove Survived_col from x\n",
        "x_test = x_test.drop(columns=Survived_col)\n",
        "x_train = x_train.drop(columns=Survived_col)\n",
        "\n",
        "print(np.where(pd.isna(all_data.iloc[:,Survived_col]))[0][-1])"
      ],
      "metadata": {
        "id": "O0Jg0IJ7Bhoi",
        "colab": {
          "base_uri": "https://localhost:8080/"
        },
        "outputId": "b436f944-e711-48cd-cc35-077d0ccad01f"
      },
      "execution_count": 210,
      "outputs": [
        {
          "output_type": "stream",
          "name": "stdout",
          "text": [
            "1306\n"
          ]
        }
      ]
    },
    {
      "cell_type": "code",
      "source": [
        "# ------------------------------ANN MODEL------------------------------------\n",
        "from sklearn.model_selection import train_test_split\n",
        "\n",
        "\n",
        "# scaling data - normilizing\n",
        "from sklearn.preprocessing import StandardScaler\n",
        "sc = StandardScaler()\n",
        "x_train = sc.fit_transform(x_train)\n",
        "x_test = sc.fit_transform(x_test)\n",
        "\n",
        "x_train_tensor = tf.convert_to_tensor(x_train, dtype=tf.float64)\n",
        "y_train_tensor = tf.convert_to_tensor(y_train, dtype=tf.float64)\n",
        "\n",
        "#Training\n",
        "\n",
        "#Init the ANN\n",
        "ann = tf.keras.models.Sequential()\n",
        "\n",
        "ann.add(tf.keras.layers.Dense(units=6, activation='relu'))\n",
        "ann.add(tf.keras.layers.Dense(units=6, activation='relu'))\n",
        "ann.add(tf.keras.layers.Dense(units=6, activation='relu'))\n",
        "ann.add(tf.keras.layers.Dense(units=1, activation='sigmoid'))\n",
        "\n",
        "ann.compile(optimizer='adam', loss='binary_crossentropy', metrics= ['accuracy'])\n",
        "\n",
        "# Actual training\n",
        "ann.fit(x_train_tensor, y_train_tensor, batch_size=32, epochs=100)\n",
        "\n",
        "y_pred = ann.predict(x_test)\n"
      ],
      "metadata": {
        "colab": {
          "base_uri": "https://localhost:8080/"
        },
        "id": "mMfcFE-7Gn8Z",
        "outputId": "fc703ab6-d101-4cb1-f17d-472e02f6a091"
      },
      "execution_count": 212,
      "outputs": [
        {
          "output_type": "stream",
          "name": "stdout",
          "text": [
            "Epoch 1/100\n",
            "28/28 [==============================] - 2s 39ms/step - loss: 0.6668 - accuracy: 0.6513\n",
            "Epoch 2/100\n",
            "28/28 [==============================] - 0s 2ms/step - loss: 0.6341 - accuracy: 0.6625\n",
            "Epoch 3/100\n",
            "28/28 [==============================] - 0s 2ms/step - loss: 0.6043 - accuracy: 0.6828\n",
            "Epoch 4/100\n",
            "28/28 [==============================] - 0s 4ms/step - loss: 0.5766 - accuracy: 0.7042\n",
            "Epoch 5/100\n",
            "28/28 [==============================] - 0s 4ms/step - loss: 0.5536 - accuracy: 0.7098\n",
            "Epoch 6/100\n",
            "28/28 [==============================] - 0s 5ms/step - loss: 0.5351 - accuracy: 0.7143\n",
            "Epoch 7/100\n",
            "28/28 [==============================] - 0s 3ms/step - loss: 0.5203 - accuracy: 0.7244\n",
            "Epoch 8/100\n",
            "28/28 [==============================] - 3s 100ms/step - loss: 0.5095 - accuracy: 0.7334\n",
            "Epoch 9/100\n",
            "28/28 [==============================] - 0s 3ms/step - loss: 0.5010 - accuracy: 0.7503\n",
            "Epoch 10/100\n",
            "28/28 [==============================] - 0s 3ms/step - loss: 0.4938 - accuracy: 0.7503\n",
            "Epoch 11/100\n",
            "28/28 [==============================] - 0s 3ms/step - loss: 0.4877 - accuracy: 0.7525\n",
            "Epoch 12/100\n",
            "28/28 [==============================] - 0s 3ms/step - loss: 0.4820 - accuracy: 0.7582\n",
            "Epoch 13/100\n",
            "28/28 [==============================] - 0s 4ms/step - loss: 0.4766 - accuracy: 0.7818\n",
            "Epoch 14/100\n",
            "28/28 [==============================] - 0s 6ms/step - loss: 0.4720 - accuracy: 0.7930\n",
            "Epoch 15/100\n",
            "28/28 [==============================] - 0s 2ms/step - loss: 0.4670 - accuracy: 0.7930\n",
            "Epoch 16/100\n",
            "28/28 [==============================] - 0s 2ms/step - loss: 0.4627 - accuracy: 0.7953\n",
            "Epoch 17/100\n",
            "28/28 [==============================] - 0s 2ms/step - loss: 0.4588 - accuracy: 0.7998\n",
            "Epoch 18/100\n",
            "28/28 [==============================] - 0s 2ms/step - loss: 0.4546 - accuracy: 0.8009\n",
            "Epoch 19/100\n",
            "28/28 [==============================] - 0s 2ms/step - loss: 0.4513 - accuracy: 0.7998\n",
            "Epoch 20/100\n",
            "28/28 [==============================] - 0s 2ms/step - loss: 0.4477 - accuracy: 0.8065\n",
            "Epoch 21/100\n",
            "28/28 [==============================] - 0s 2ms/step - loss: 0.4447 - accuracy: 0.8043\n",
            "Epoch 22/100\n",
            "28/28 [==============================] - 0s 2ms/step - loss: 0.4421 - accuracy: 0.8065\n",
            "Epoch 23/100\n",
            "28/28 [==============================] - 0s 2ms/step - loss: 0.4394 - accuracy: 0.8110\n",
            "Epoch 24/100\n",
            "28/28 [==============================] - 0s 3ms/step - loss: 0.4381 - accuracy: 0.8155\n",
            "Epoch 25/100\n",
            "28/28 [==============================] - 0s 3ms/step - loss: 0.4350 - accuracy: 0.8099\n",
            "Epoch 26/100\n",
            "28/28 [==============================] - 0s 3ms/step - loss: 0.4328 - accuracy: 0.8121\n",
            "Epoch 27/100\n",
            "28/28 [==============================] - 2s 58ms/step - loss: 0.4299 - accuracy: 0.8166\n",
            "Epoch 28/100\n",
            "28/28 [==============================] - 0s 3ms/step - loss: 0.4258 - accuracy: 0.8155\n",
            "Epoch 29/100\n",
            "28/28 [==============================] - 0s 3ms/step - loss: 0.4231 - accuracy: 0.8144\n",
            "Epoch 30/100\n",
            "28/28 [==============================] - 0s 3ms/step - loss: 0.4210 - accuracy: 0.8223\n",
            "Epoch 31/100\n",
            "28/28 [==============================] - 0s 3ms/step - loss: 0.4188 - accuracy: 0.8223\n",
            "Epoch 32/100\n",
            "28/28 [==============================] - 0s 3ms/step - loss: 0.4161 - accuracy: 0.8256\n",
            "Epoch 33/100\n",
            "28/28 [==============================] - 0s 3ms/step - loss: 0.4150 - accuracy: 0.8256\n",
            "Epoch 34/100\n",
            "28/28 [==============================] - 0s 3ms/step - loss: 0.4134 - accuracy: 0.8234\n",
            "Epoch 35/100\n",
            "28/28 [==============================] - 0s 4ms/step - loss: 0.4114 - accuracy: 0.8256\n",
            "Epoch 36/100\n",
            "28/28 [==============================] - 2s 68ms/step - loss: 0.4099 - accuracy: 0.8313\n",
            "Epoch 37/100\n",
            "28/28 [==============================] - 0s 2ms/step - loss: 0.4088 - accuracy: 0.8324\n",
            "Epoch 38/100\n",
            "28/28 [==============================] - 0s 3ms/step - loss: 0.4068 - accuracy: 0.8324\n",
            "Epoch 39/100\n",
            "28/28 [==============================] - 0s 2ms/step - loss: 0.4060 - accuracy: 0.8335\n",
            "Epoch 40/100\n",
            "28/28 [==============================] - 0s 2ms/step - loss: 0.4038 - accuracy: 0.8324\n",
            "Epoch 41/100\n",
            "28/28 [==============================] - 0s 2ms/step - loss: 0.4025 - accuracy: 0.8313\n",
            "Epoch 42/100\n",
            "28/28 [==============================] - 0s 2ms/step - loss: 0.4018 - accuracy: 0.8369\n",
            "Epoch 43/100\n",
            "28/28 [==============================] - 0s 2ms/step - loss: 0.4010 - accuracy: 0.8380\n",
            "Epoch 44/100\n",
            "28/28 [==============================] - 0s 2ms/step - loss: 0.3994 - accuracy: 0.8358\n",
            "Epoch 45/100\n",
            "28/28 [==============================] - 0s 2ms/step - loss: 0.3981 - accuracy: 0.8414\n",
            "Epoch 46/100\n",
            "28/28 [==============================] - 0s 2ms/step - loss: 0.3978 - accuracy: 0.8414\n",
            "Epoch 47/100\n",
            "28/28 [==============================] - 0s 3ms/step - loss: 0.3969 - accuracy: 0.8414\n",
            "Epoch 48/100\n",
            "28/28 [==============================] - 0s 2ms/step - loss: 0.3956 - accuracy: 0.8425\n",
            "Epoch 49/100\n",
            "28/28 [==============================] - 2s 56ms/step - loss: 0.3950 - accuracy: 0.8414\n",
            "Epoch 50/100\n",
            "28/28 [==============================] - 0s 2ms/step - loss: 0.3939 - accuracy: 0.8425\n",
            "Epoch 51/100\n",
            "28/28 [==============================] - 0s 2ms/step - loss: 0.3929 - accuracy: 0.8369\n",
            "Epoch 52/100\n",
            "28/28 [==============================] - 0s 2ms/step - loss: 0.3917 - accuracy: 0.8425\n",
            "Epoch 53/100\n",
            "28/28 [==============================] - 0s 2ms/step - loss: 0.3914 - accuracy: 0.8425\n",
            "Epoch 54/100\n",
            "28/28 [==============================] - 0s 2ms/step - loss: 0.3904 - accuracy: 0.8425\n",
            "Epoch 55/100\n",
            "28/28 [==============================] - 0s 2ms/step - loss: 0.3894 - accuracy: 0.8425\n",
            "Epoch 56/100\n",
            "28/28 [==============================] - 0s 2ms/step - loss: 0.3894 - accuracy: 0.8436\n",
            "Epoch 57/100\n",
            "28/28 [==============================] - 0s 2ms/step - loss: 0.3890 - accuracy: 0.8425\n",
            "Epoch 58/100\n",
            "28/28 [==============================] - 0s 2ms/step - loss: 0.3871 - accuracy: 0.8459\n",
            "Epoch 59/100\n",
            "28/28 [==============================] - 0s 2ms/step - loss: 0.3875 - accuracy: 0.8459\n",
            "Epoch 60/100\n",
            "28/28 [==============================] - 0s 2ms/step - loss: 0.3879 - accuracy: 0.8448\n",
            "Epoch 61/100\n",
            "28/28 [==============================] - 0s 3ms/step - loss: 0.3857 - accuracy: 0.8425\n",
            "Epoch 62/100\n",
            "28/28 [==============================] - 0s 2ms/step - loss: 0.3850 - accuracy: 0.8414\n",
            "Epoch 63/100\n",
            "28/28 [==============================] - 2s 67ms/step - loss: 0.3850 - accuracy: 0.8425\n",
            "Epoch 64/100\n",
            "28/28 [==============================] - 0s 2ms/step - loss: 0.3841 - accuracy: 0.8425\n",
            "Epoch 65/100\n",
            "28/28 [==============================] - 0s 2ms/step - loss: 0.3840 - accuracy: 0.8448\n",
            "Epoch 66/100\n",
            "28/28 [==============================] - 0s 2ms/step - loss: 0.3843 - accuracy: 0.8481\n",
            "Epoch 67/100\n",
            "28/28 [==============================] - 0s 2ms/step - loss: 0.3831 - accuracy: 0.8414\n",
            "Epoch 68/100\n",
            "28/28 [==============================] - 0s 2ms/step - loss: 0.3832 - accuracy: 0.8425\n",
            "Epoch 69/100\n",
            "28/28 [==============================] - 0s 2ms/step - loss: 0.3836 - accuracy: 0.8403\n",
            "Epoch 70/100\n",
            "28/28 [==============================] - 0s 2ms/step - loss: 0.3816 - accuracy: 0.8481\n",
            "Epoch 71/100\n",
            "28/28 [==============================] - 0s 2ms/step - loss: 0.3810 - accuracy: 0.8504\n",
            "Epoch 72/100\n",
            "28/28 [==============================] - 0s 2ms/step - loss: 0.3819 - accuracy: 0.8436\n",
            "Epoch 73/100\n",
            "28/28 [==============================] - 0s 2ms/step - loss: 0.3802 - accuracy: 0.8481\n",
            "Epoch 74/100\n",
            "28/28 [==============================] - 0s 2ms/step - loss: 0.3810 - accuracy: 0.8459\n",
            "Epoch 75/100\n",
            "28/28 [==============================] - 0s 3ms/step - loss: 0.3792 - accuracy: 0.8425\n",
            "Epoch 76/100\n",
            "28/28 [==============================] - 2s 68ms/step - loss: 0.3787 - accuracy: 0.8470\n",
            "Epoch 77/100\n",
            "28/28 [==============================] - 0s 2ms/step - loss: 0.3782 - accuracy: 0.8493\n",
            "Epoch 78/100\n",
            "28/28 [==============================] - 0s 2ms/step - loss: 0.3779 - accuracy: 0.8504\n",
            "Epoch 79/100\n",
            "28/28 [==============================] - 0s 2ms/step - loss: 0.3777 - accuracy: 0.8470\n",
            "Epoch 80/100\n",
            "28/28 [==============================] - 0s 2ms/step - loss: 0.3777 - accuracy: 0.8493\n",
            "Epoch 81/100\n",
            "28/28 [==============================] - 0s 2ms/step - loss: 0.3761 - accuracy: 0.8481\n",
            "Epoch 82/100\n",
            "28/28 [==============================] - 0s 2ms/step - loss: 0.3764 - accuracy: 0.8470\n",
            "Epoch 83/100\n",
            "28/28 [==============================] - 0s 3ms/step - loss: 0.3770 - accuracy: 0.8425\n",
            "Epoch 84/100\n",
            "28/28 [==============================] - 0s 2ms/step - loss: 0.3759 - accuracy: 0.8493\n",
            "Epoch 85/100\n",
            "28/28 [==============================] - 0s 4ms/step - loss: 0.3761 - accuracy: 0.8481\n",
            "Epoch 86/100\n",
            "28/28 [==============================] - 0s 4ms/step - loss: 0.3759 - accuracy: 0.8470\n",
            "Epoch 87/100\n",
            "28/28 [==============================] - 0s 3ms/step - loss: 0.3746 - accuracy: 0.8459\n",
            "Epoch 88/100\n",
            "28/28 [==============================] - 0s 3ms/step - loss: 0.3746 - accuracy: 0.8504\n",
            "Epoch 89/100\n",
            "28/28 [==============================] - 0s 3ms/step - loss: 0.3749 - accuracy: 0.8448\n",
            "Epoch 90/100\n",
            "28/28 [==============================] - 0s 3ms/step - loss: 0.3741 - accuracy: 0.8504\n",
            "Epoch 91/100\n",
            "28/28 [==============================] - 0s 3ms/step - loss: 0.3731 - accuracy: 0.8481\n",
            "Epoch 92/100\n",
            "28/28 [==============================] - 0s 4ms/step - loss: 0.3743 - accuracy: 0.8493\n",
            "Epoch 93/100\n",
            "28/28 [==============================] - 0s 3ms/step - loss: 0.3730 - accuracy: 0.8515\n",
            "Epoch 94/100\n",
            "28/28 [==============================] - 0s 3ms/step - loss: 0.3725 - accuracy: 0.8470\n",
            "Epoch 95/100\n",
            "28/28 [==============================] - 0s 4ms/step - loss: 0.3726 - accuracy: 0.8515\n",
            "Epoch 96/100\n",
            "28/28 [==============================] - 2s 70ms/step - loss: 0.3724 - accuracy: 0.8470\n",
            "Epoch 97/100\n",
            "28/28 [==============================] - 0s 2ms/step - loss: 0.3725 - accuracy: 0.8515\n",
            "Epoch 98/100\n",
            "28/28 [==============================] - 0s 2ms/step - loss: 0.3715 - accuracy: 0.8515\n",
            "Epoch 99/100\n",
            "28/28 [==============================] - 0s 2ms/step - loss: 0.3715 - accuracy: 0.8493\n",
            "Epoch 100/100\n",
            "28/28 [==============================] - 0s 2ms/step - loss: 0.3708 - accuracy: 0.8526\n",
            "14/14 [==============================] - 0s 2ms/step\n"
          ]
        }
      ]
    },
    {
      "cell_type": "code",
      "source": [
        "from sklearn.metrics import multilabel_confusion_matrix,accuracy_score, confusion_matrix\n",
        "\n",
        "y_binary_pred = np.where(y_pred > 0.5, 1, 0)\n",
        "\n",
        "y_test = y_test_data['Survived']\n",
        "cm = confusion_matrix(y_test,y_binary_pred)\n",
        "acc = accuracy_score(y_test,y_binary_pred)"
      ],
      "metadata": {
        "id": "6UQOY90wJUqm"
      },
      "execution_count": 213,
      "outputs": []
    },
    {
      "cell_type": "code",
      "source": [
        "print(cm)\n",
        "print('acc is:', acc)\n"
      ],
      "metadata": {
        "colab": {
          "base_uri": "https://localhost:8080/"
        },
        "id": "xNluyHn8JZf1",
        "outputId": "0f5a1f17-5ebd-4bb7-b78e-1496d200c36c"
      },
      "execution_count": 214,
      "outputs": [
        {
          "output_type": "stream",
          "name": "stdout",
          "text": [
            "[[239  27]\n",
            " [ 30 122]]\n",
            "acc is: 0.8636363636363636\n"
          ]
        }
      ]
    },
    {
      "cell_type": "code",
      "source": [
        "import csv\n",
        "\n",
        "# Sample data\n",
        "passenger_ids = test['PassengerId'].values\n",
        "\n",
        "# Create a DataFrame from the given data\n",
        "data = pd.DataFrame({\n",
        "    'PassengerId': passenger_ids,\n",
        "    'Survived': y_binary_pred.flatten()  # Flatten the array to match the shape\n",
        "})\n",
        "\n",
        "# Specify the file path\n",
        "csv_file_path = 'output.csv'\n",
        "\n",
        "# Write the DataFrame to a CSV file\n",
        "data.to_csv(csv_file_path, index=False)\n",
        "\n",
        "from google.colab import files\n",
        "\n",
        "files.download('output.csv')"
      ],
      "metadata": {
        "colab": {
          "base_uri": "https://localhost:8080/",
          "height": 17
        },
        "id": "zXfC3bo-jAjx",
        "outputId": "644478c2-69c5-4ab3-c537-98d62ddbc5b0"
      },
      "execution_count": 215,
      "outputs": [
        {
          "output_type": "display_data",
          "data": {
            "text/plain": [
              "<IPython.core.display.Javascript object>"
            ],
            "application/javascript": [
              "\n",
              "    async function download(id, filename, size) {\n",
              "      if (!google.colab.kernel.accessAllowed) {\n",
              "        return;\n",
              "      }\n",
              "      const div = document.createElement('div');\n",
              "      const label = document.createElement('label');\n",
              "      label.textContent = `Downloading \"${filename}\": `;\n",
              "      div.appendChild(label);\n",
              "      const progress = document.createElement('progress');\n",
              "      progress.max = size;\n",
              "      div.appendChild(progress);\n",
              "      document.body.appendChild(div);\n",
              "\n",
              "      const buffers = [];\n",
              "      let downloaded = 0;\n",
              "\n",
              "      const channel = await google.colab.kernel.comms.open(id);\n",
              "      // Send a message to notify the kernel that we're ready.\n",
              "      channel.send({})\n",
              "\n",
              "      for await (const message of channel.messages) {\n",
              "        // Send a message to notify the kernel that we're ready.\n",
              "        channel.send({})\n",
              "        if (message.buffers) {\n",
              "          for (const buffer of message.buffers) {\n",
              "            buffers.push(buffer);\n",
              "            downloaded += buffer.byteLength;\n",
              "            progress.value = downloaded;\n",
              "          }\n",
              "        }\n",
              "      }\n",
              "      const blob = new Blob(buffers, {type: 'application/binary'});\n",
              "      const a = document.createElement('a');\n",
              "      a.href = window.URL.createObjectURL(blob);\n",
              "      a.download = filename;\n",
              "      div.appendChild(a);\n",
              "      a.click();\n",
              "      div.remove();\n",
              "    }\n",
              "  "
            ]
          },
          "metadata": {}
        },
        {
          "output_type": "display_data",
          "data": {
            "text/plain": [
              "<IPython.core.display.Javascript object>"
            ],
            "application/javascript": [
              "download(\"download_80853c20-3860-462e-a854-295d42cc4621\", \"output.csv\", 2839)"
            ]
          },
          "metadata": {}
        }
      ]
    },
    {
      "cell_type": "code",
      "source": [
        "print(y_binary_pred.sum())\n",
        "print(y_test_data['Survived'].sum())\n",
        "true_inf = (y_binary_pred.flatten()==y_test_data['Survived'].values).sum()\n",
        "print(true_inf/418)"
      ],
      "metadata": {
        "colab": {
          "base_uri": "https://localhost:8080/"
        },
        "id": "rPWNUdinllJK",
        "outputId": "967943e3-8763-441d-e5b8-623bba3d2cae"
      },
      "execution_count": 44,
      "outputs": [
        {
          "output_type": "stream",
          "name": "stdout",
          "text": [
            "136\n",
            "152\n",
            "0.8516746411483254\n"
          ]
        }
      ]
    },
    {
      "cell_type": "code",
      "source": [],
      "metadata": {
        "colab": {
          "base_uri": "https://localhost:8080/",
          "height": 17
        },
        "id": "LktSkqU7mitH",
        "outputId": "b6eb39db-dde4-4e97-cdc8-85c081eab22e"
      },
      "execution_count": 33,
      "outputs": [
        {
          "output_type": "display_data",
          "data": {
            "text/plain": [
              "<IPython.core.display.Javascript object>"
            ],
            "application/javascript": [
              "\n",
              "    async function download(id, filename, size) {\n",
              "      if (!google.colab.kernel.accessAllowed) {\n",
              "        return;\n",
              "      }\n",
              "      const div = document.createElement('div');\n",
              "      const label = document.createElement('label');\n",
              "      label.textContent = `Downloading \"${filename}\": `;\n",
              "      div.appendChild(label);\n",
              "      const progress = document.createElement('progress');\n",
              "      progress.max = size;\n",
              "      div.appendChild(progress);\n",
              "      document.body.appendChild(div);\n",
              "\n",
              "      const buffers = [];\n",
              "      let downloaded = 0;\n",
              "\n",
              "      const channel = await google.colab.kernel.comms.open(id);\n",
              "      // Send a message to notify the kernel that we're ready.\n",
              "      channel.send({})\n",
              "\n",
              "      for await (const message of channel.messages) {\n",
              "        // Send a message to notify the kernel that we're ready.\n",
              "        channel.send({})\n",
              "        if (message.buffers) {\n",
              "          for (const buffer of message.buffers) {\n",
              "            buffers.push(buffer);\n",
              "            downloaded += buffer.byteLength;\n",
              "            progress.value = downloaded;\n",
              "          }\n",
              "        }\n",
              "      }\n",
              "      const blob = new Blob(buffers, {type: 'application/binary'});\n",
              "      const a = document.createElement('a');\n",
              "      a.href = window.URL.createObjectURL(blob);\n",
              "      a.download = filename;\n",
              "      div.appendChild(a);\n",
              "      a.click();\n",
              "      div.remove();\n",
              "    }\n",
              "  "
            ]
          },
          "metadata": {}
        },
        {
          "output_type": "display_data",
          "data": {
            "text/plain": [
              "<IPython.core.display.Javascript object>"
            ],
            "application/javascript": [
              "download(\"download_5eca0e61-0fb4-4280-b424-24733781d675\", \"output.csv\", 2839)"
            ]
          },
          "metadata": {}
        }
      ]
    }
  ]
}