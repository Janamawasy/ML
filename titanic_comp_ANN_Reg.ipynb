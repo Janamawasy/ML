{
  "nbformat": 4,
  "nbformat_minor": 0,
  "metadata": {
    "colab": {
      "provenance": [],
      "authorship_tag": "ABX9TyPRNaDff8GYiPyFfL/y1Tqf",
      "include_colab_link": true
    },
    "kernelspec": {
      "name": "python3",
      "display_name": "Python 3"
    },
    "language_info": {
      "name": "python"
    }
  },
  "cells": [
    {
      "cell_type": "markdown",
      "metadata": {
        "id": "view-in-github",
        "colab_type": "text"
      },
      "source": [
        "<a href=\"https://colab.research.google.com/github/Janamawasy/ML/blob/main/titanic_comp_ANN_Reg.ipynb\" target=\"_parent\"><img src=\"https://colab.research.google.com/assets/colab-badge.svg\" alt=\"Open In Colab\"/></a>"
      ]
    },
    {
      "cell_type": "code",
      "execution_count": 35,
      "metadata": {
        "colab": {
          "base_uri": "https://localhost:8080/",
          "height": 36
        },
        "id": "hivJssHlCMti",
        "outputId": "900e458b-c541-4c4a-a22c-c67459d73e55"
      },
      "outputs": [
        {
          "output_type": "execute_result",
          "data": {
            "text/plain": [
              "'2.15.0'"
            ],
            "application/vnd.google.colaboratory.intrinsic+json": {
              "type": "string"
            }
          },
          "metadata": {},
          "execution_count": 35
        }
      ],
      "source": [
        "import numpy as np\n",
        "import pandas as pd\n",
        "import tensorflow as tf\n",
        "from datetime import datetime\n",
        "tf.__version__"
      ]
    },
    {
      "cell_type": "code",
      "source": [
        "# -------------- code - acc=0.85   score-0.76\n",
        "\n",
        "train = pd.read_csv('train (1).csv')\n",
        "test = pd.read_csv('test (1).csv')\n",
        "y_test_data = pd.read_csv('gender_submission.csv')\n"
      ],
      "metadata": {
        "id": "9-qvuuYxCTqS"
      },
      "execution_count": 2,
      "outputs": []
    },
    {
      "cell_type": "code",
      "source": [
        "all_data = pd.concat([train, test], ignore_index=True)\n",
        "all_data.isna().sum()"
      ],
      "metadata": {
        "colab": {
          "base_uri": "https://localhost:8080/"
        },
        "id": "kCRYEB1KCkpq",
        "outputId": "96c47d80-8b60-43b4-d2f6-150f30af7837"
      },
      "execution_count": 3,
      "outputs": [
        {
          "output_type": "execute_result",
          "data": {
            "text/plain": [
              "PassengerId       0\n",
              "Survived        418\n",
              "Pclass            0\n",
              "Name              0\n",
              "Sex               0\n",
              "Age             263\n",
              "SibSp             0\n",
              "Parch             0\n",
              "Ticket            0\n",
              "Fare              1\n",
              "Cabin          1014\n",
              "Embarked          2\n",
              "dtype: int64"
            ]
          },
          "metadata": {},
          "execution_count": 3
        }
      ]
    },
    {
      "cell_type": "code",
      "source": [
        "all_data = all_data.dropna(subset='Embarked')\n",
        "all_data['Age'] = all_data['Age'].fillna(-1)\n",
        "all_data['Fare'] = all_data['Fare'].fillna(all_data['Fare'].median())\n",
        "\n",
        "# # split cabin to number and letter(floor)\n",
        "all_data['Floor'] = all_data['Cabin'].str.extract('([a-zA-Z]+)', expand=False)\n",
        "all_data['Room_Num'] = all_data['Cabin'].str.extract('(\\d+)', expand=False)\n",
        "all_data['Room_Num'] = all_data['Room_Num'].fillna(-1).astype(int)\n",
        "all_data['Floor'] = all_data['Floor'].fillna(-1)\n",
        "all_data = all_data.drop(columns=['Cabin', 'Name','PassengerId'])\n",
        "\n",
        "all_data.isna().sum()\n",
        "\n"
      ],
      "metadata": {
        "id": "WvgBN9ZmCbP_"
      },
      "execution_count": null,
      "outputs": []
    },
    {
      "cell_type": "code",
      "source": [
        "# label encoding\n",
        "from sklearn.preprocessing import LabelEncoder, OneHotEncoder\n",
        "from sklearn.compose import ColumnTransformer\n",
        "\n",
        "le = LabelEncoder()\n",
        "all_data['Sex'] = le.fit_transform(all_data['Sex'])\n",
        "all_data['Ticket'] = le.fit_transform(all_data['Ticket'])\n",
        "# FLOOR NUMBER\n",
        "category_mapping = {'A': 1, 'B': 2, 'C': 3, 'D': 4, 'E': 5,'F': 6,'G': 7,'T': 8, -1:-1}\n",
        "\n",
        "# Use the map function to replace categories with numerical values\n",
        "all_data['Floor'] = all_data['Floor'].map(category_mapping)\n",
        "\n",
        "\n",
        "# One Hot Encoding\n",
        "ct = ColumnTransformer(transformers=[('encoder', OneHotEncoder(), ['Embarked'])], remainder='passthrough')\n",
        "all_data = pd.DataFrame(ct.fit_transform(all_data))\n",
        "\n",
        "\n"
      ],
      "metadata": {
        "id": "t5g4al98C3Pq"
      },
      "execution_count": 5,
      "outputs": []
    },
    {
      "cell_type": "code",
      "source": [
        "# split the data - remove passenger id\n",
        "\n",
        "Survived_col = all_data.columns[all_data.isna().any()].tolist()[0]\n",
        "\n",
        "nan_indexes = np.where(np.isnan(all_data.iloc[:, Survived_col]))[0][0]\n",
        "limit = nan_indexes\n",
        "x_train = all_data.iloc[0:limit,:]\n",
        "y_train = all_data.iloc[0:limit,Survived_col]\n",
        "\n",
        "x_test = all_data.iloc[limit:,:]\n",
        "y_test = all_data.iloc[limit:,Survived_col]\n",
        "\n",
        "# remove Survived_col from x\n",
        "x_test = x_test.drop(columns=Survived_col)\n",
        "x_train = x_train.drop(columns=Survived_col)"
      ],
      "metadata": {
        "id": "iWC3aGRuC-pH"
      },
      "execution_count": 6,
      "outputs": []
    },
    {
      "cell_type": "code",
      "source": [
        "# -------------------- CORR +  DELETING CORRELATED FEATURES\n",
        "corr_data = all_data.drop(columns=3)\n",
        "\n",
        "# Set the correlation threshold\n",
        "correlation_threshold = 0.7\n",
        "\n",
        "# Calculate the correlation matrix\n",
        "correlation_matrix = corr_data.corr(numeric_only=True)\n",
        "\n",
        "# Find features with correlation above the threshold\n",
        "highly_correlated_features = set()\n",
        "for i in range(len(correlation_matrix.columns)):\n",
        "    for j in range(i):\n",
        "        if abs(correlation_matrix.iloc[i, j]) >= correlation_threshold:\n",
        "            colname = correlation_matrix.columns[i]\n",
        "            highly_correlated_features.add(colname)\n",
        "\n",
        "print(np.array(highly_correlated_features))\n",
        "print(correlation_matrix)\n",
        "\n",
        "# indices_to_drop = [pd.DataFrame(corr_data).columns.get_loc(col) for col in highly_correlated_features]\n",
        "# filtered_data = np.delete(corr_data, indices_to_drop, axis=1)\n",
        "# correlation_matrix = pd.DataFrame(filtered_data).corr()\n",
        "# print((abs(correlation_matrix) >= 0.7).sum().sum()-len(correlation_matrix) == 0)\n"
      ],
      "metadata": {
        "colab": {
          "base_uri": "https://localhost:8080/"
        },
        "id": "CTbCLrK6HHUF",
        "outputId": "485d1bec-ee15-4426-8f05-d00b8a546b97"
      },
      "execution_count": 7,
      "outputs": [
        {
          "output_type": "stream",
          "name": "stdout",
          "text": [
            "{2, 12}\n",
            "          0         1         2         4         5         6         7   \\\n",
            "0   1.000000 -0.164463 -0.778161 -0.271415 -0.067720  0.043929 -0.048788   \n",
            "1  -0.164463  1.000000 -0.491534  0.230169 -0.089445 -0.227527 -0.048926   \n",
            "2  -0.778161 -0.491534  1.000000  0.093071  0.116741  0.106091  0.074227   \n",
            "4  -0.271415  0.230169  0.093071  1.000000  0.121826 -0.406491  0.059819   \n",
            "5  -0.067720 -0.089445  0.116741  0.121826  1.000000  0.001314 -0.110768   \n",
            "6   0.043929 -0.227527  0.106091 -0.406491  0.001314  1.000000 -0.131426   \n",
            "7  -0.048788 -0.048926  0.074227  0.059819 -0.110768 -0.131426  1.000000   \n",
            "8  -0.008985 -0.101186  0.072362  0.017304 -0.214371 -0.036558  0.373383   \n",
            "9  -0.054576  0.059468  0.010319  0.307040  0.021692 -0.091241  0.062889   \n",
            "10  0.287309 -0.129604 -0.171136 -0.557915 -0.184192  0.212115  0.161141   \n",
            "11  0.198275 -0.128539 -0.093207 -0.604819 -0.134803  0.257548 -0.008675   \n",
            "12  0.223376 -0.098652 -0.134399 -0.578487 -0.099004  0.242152 -0.002768   \n",
            "\n",
            "          8         9         10        11        12  \n",
            "0  -0.008985 -0.054576  0.287309  0.198275  0.223376  \n",
            "1  -0.101186  0.059468 -0.129604 -0.128539 -0.098652  \n",
            "2   0.072362  0.010319 -0.171136 -0.093207 -0.134399  \n",
            "4   0.017304  0.307040 -0.557915 -0.604819 -0.578487  \n",
            "5  -0.214371  0.021692 -0.184192 -0.134803 -0.099004  \n",
            "6  -0.036558 -0.091241  0.212115  0.257548  0.242152  \n",
            "7   0.373383  0.062889  0.161141 -0.008675 -0.002768  \n",
            "8   1.000000  0.052452  0.222422  0.036306  0.001493  \n",
            "9   0.052452  1.000000 -0.012773 -0.210194 -0.189266  \n",
            "10  0.222422 -0.012773  1.000000  0.397857  0.456204  \n",
            "11  0.036306 -0.210194  0.397857  1.000000  0.701509  \n",
            "12  0.001493 -0.189266  0.456204  0.701509  1.000000  \n"
          ]
        }
      ]
    },
    {
      "cell_type": "code",
      "source": [
        "# ------------ CORR BETWEEN X AND Y\n",
        "# correlation_with_y = df.corrwith(np.array(y))\n",
        "\n",
        "x_transposed = np.transpose(x_train)\n",
        "\n",
        "# Compute the correlation between each feature and y\n",
        "correlation_with_y = np.corrcoef(x_transposed, y_train)[0:-1, -1]\n",
        "print(correlation_with_y)"
      ],
      "metadata": {
        "colab": {
          "base_uri": "https://localhost:8080/"
        },
        "id": "TEPyffHGHX8A",
        "outputId": "8bdda3f5-8871-4166-ba2b-7f4accdbb72a"
      },
      "execution_count": 9,
      "outputs": [
        {
          "output_type": "stream",
          "name": "stdout",
          "text": [
            "[ 0.16996597  0.00453573 -0.15177705 -0.33554886 -0.54158492  0.00826467\n",
            " -0.03404     0.08315078 -0.16314171  0.25529046  0.29716829  0.23053655]\n"
          ]
        }
      ]
    },
    {
      "cell_type": "code",
      "source": [
        "# ------------------------------ANN MODEL------------------------------------\n",
        "from sklearn.model_selection import train_test_split\n",
        "\n",
        "# scaling data - normilizing\n",
        "from sklearn.preprocessing import StandardScaler\n",
        "sc = StandardScaler()\n",
        "x_train = sc.fit_transform(x_train)\n",
        "x_test = sc.fit_transform(x_test)\n",
        "\n",
        "#Training\n",
        "\n",
        "#Init the ANN\n",
        "ann = tf.keras.models.Sequential()\n",
        "\n",
        "ann.add(tf.keras.layers.Dense(units=6, activation='relu'))\n",
        "ann.add(tf.keras.layers.Dense(units=6, activation='relu'))\n",
        "ann.add(tf.keras.layers.Dense(units=6, activation='relu'))\n",
        "ann.add(tf.keras.layers.Dense(units=1, activation='sigmoid'))\n",
        "\n",
        "ann.compile(optimizer='adam', loss='binary_crossentropy', metrics= ['accuracy'])\n",
        "\n",
        "# Actual training\n",
        "ann.fit(x_train, y_train, batch_size=32, epochs=100)\n",
        "\n",
        "y_pred = ann.predict(x_test)\n",
        "\n",
        "from sklearn.metrics import multilabel_confusion_matrix,accuracy_score, confusion_matrix\n",
        "\n",
        "y_pred_ANN = np.where(y_pred > 0.5, 1, 0)\n",
        "\n"
      ],
      "metadata": {
        "colab": {
          "base_uri": "https://localhost:8080/"
        },
        "id": "gzvpcJnpCV0s",
        "outputId": "7d6586e5-2532-404f-d908-aba42970a772"
      },
      "execution_count": 50,
      "outputs": [
        {
          "output_type": "stream",
          "name": "stdout",
          "text": [
            "Epoch 1/100\n",
            "28/28 [==============================] - 2s 3ms/step - loss: 0.6562 - accuracy: 0.6592\n",
            "Epoch 2/100\n",
            "28/28 [==============================] - 0s 16ms/step - loss: 0.5976 - accuracy: 0.7199\n",
            "Epoch 3/100\n",
            "28/28 [==============================] - 0s 3ms/step - loss: 0.5573 - accuracy: 0.7402\n",
            "Epoch 4/100\n",
            "28/28 [==============================] - 0s 4ms/step - loss: 0.5285 - accuracy: 0.7514\n",
            "Epoch 5/100\n",
            "28/28 [==============================] - 0s 3ms/step - loss: 0.5107 - accuracy: 0.7548\n",
            "Epoch 6/100\n",
            "28/28 [==============================] - 0s 3ms/step - loss: 0.4971 - accuracy: 0.7638\n",
            "Epoch 7/100\n",
            "28/28 [==============================] - 0s 3ms/step - loss: 0.4881 - accuracy: 0.7660\n",
            "Epoch 8/100\n",
            "28/28 [==============================] - 0s 3ms/step - loss: 0.4825 - accuracy: 0.7750\n",
            "Epoch 9/100\n",
            "28/28 [==============================] - 0s 3ms/step - loss: 0.4768 - accuracy: 0.7784\n",
            "Epoch 10/100\n",
            "28/28 [==============================] - 0s 3ms/step - loss: 0.4706 - accuracy: 0.7885\n",
            "Epoch 11/100\n",
            "28/28 [==============================] - 0s 4ms/step - loss: 0.4654 - accuracy: 0.7874\n",
            "Epoch 12/100\n",
            "28/28 [==============================] - 0s 4ms/step - loss: 0.4614 - accuracy: 0.7897\n",
            "Epoch 13/100\n",
            "28/28 [==============================] - 0s 2ms/step - loss: 0.4576 - accuracy: 0.7953\n",
            "Epoch 14/100\n",
            "28/28 [==============================] - 0s 2ms/step - loss: 0.4537 - accuracy: 0.7964\n",
            "Epoch 15/100\n",
            "28/28 [==============================] - 0s 2ms/step - loss: 0.4504 - accuracy: 0.7987\n",
            "Epoch 16/100\n",
            "28/28 [==============================] - 0s 2ms/step - loss: 0.4476 - accuracy: 0.7975\n",
            "Epoch 17/100\n",
            "28/28 [==============================] - 0s 2ms/step - loss: 0.4448 - accuracy: 0.8020\n",
            "Epoch 18/100\n",
            "28/28 [==============================] - 0s 2ms/step - loss: 0.4427 - accuracy: 0.8054\n",
            "Epoch 19/100\n",
            "28/28 [==============================] - 0s 2ms/step - loss: 0.4397 - accuracy: 0.8054\n",
            "Epoch 20/100\n",
            "28/28 [==============================] - 0s 2ms/step - loss: 0.4377 - accuracy: 0.8065\n",
            "Epoch 21/100\n",
            "28/28 [==============================] - 0s 2ms/step - loss: 0.4354 - accuracy: 0.8099\n",
            "Epoch 22/100\n",
            "28/28 [==============================] - 0s 2ms/step - loss: 0.4336 - accuracy: 0.8088\n",
            "Epoch 23/100\n",
            "28/28 [==============================] - 0s 2ms/step - loss: 0.4321 - accuracy: 0.8099\n",
            "Epoch 24/100\n",
            "28/28 [==============================] - 0s 2ms/step - loss: 0.4308 - accuracy: 0.8099\n",
            "Epoch 25/100\n",
            "28/28 [==============================] - 0s 2ms/step - loss: 0.4294 - accuracy: 0.8099\n",
            "Epoch 26/100\n",
            "28/28 [==============================] - 0s 2ms/step - loss: 0.4272 - accuracy: 0.8121\n",
            "Epoch 27/100\n",
            "28/28 [==============================] - 0s 2ms/step - loss: 0.4256 - accuracy: 0.8121\n",
            "Epoch 28/100\n",
            "28/28 [==============================] - 0s 2ms/step - loss: 0.4241 - accuracy: 0.8178\n",
            "Epoch 29/100\n",
            "28/28 [==============================] - 0s 2ms/step - loss: 0.4234 - accuracy: 0.8189\n",
            "Epoch 30/100\n",
            "28/28 [==============================] - 0s 2ms/step - loss: 0.4221 - accuracy: 0.8189\n",
            "Epoch 31/100\n",
            "28/28 [==============================] - 0s 2ms/step - loss: 0.4212 - accuracy: 0.8178\n",
            "Epoch 32/100\n",
            "28/28 [==============================] - 1s 39ms/step - loss: 0.4204 - accuracy: 0.8166\n",
            "Epoch 33/100\n",
            "28/28 [==============================] - 0s 2ms/step - loss: 0.4196 - accuracy: 0.8178\n",
            "Epoch 34/100\n",
            "28/28 [==============================] - 0s 2ms/step - loss: 0.4189 - accuracy: 0.8200\n",
            "Epoch 35/100\n",
            "28/28 [==============================] - 1s 36ms/step - loss: 0.4180 - accuracy: 0.8155\n",
            "Epoch 36/100\n",
            "28/28 [==============================] - 1s 35ms/step - loss: 0.4165 - accuracy: 0.8189\n",
            "Epoch 37/100\n",
            "28/28 [==============================] - 0s 2ms/step - loss: 0.4152 - accuracy: 0.8211\n",
            "Epoch 38/100\n",
            "28/28 [==============================] - 1s 35ms/step - loss: 0.4143 - accuracy: 0.8256\n",
            "Epoch 39/100\n",
            "28/28 [==============================] - 1s 35ms/step - loss: 0.4130 - accuracy: 0.8245\n",
            "Epoch 40/100\n",
            "28/28 [==============================] - 0s 2ms/step - loss: 0.4137 - accuracy: 0.8223\n",
            "Epoch 41/100\n",
            "28/28 [==============================] - 0s 2ms/step - loss: 0.4122 - accuracy: 0.8268\n",
            "Epoch 42/100\n",
            "28/28 [==============================] - 0s 2ms/step - loss: 0.4110 - accuracy: 0.8256\n",
            "Epoch 43/100\n",
            "28/28 [==============================] - 0s 3ms/step - loss: 0.4106 - accuracy: 0.8268\n",
            "Epoch 44/100\n",
            "28/28 [==============================] - 0s 3ms/step - loss: 0.4099 - accuracy: 0.8223\n",
            "Epoch 45/100\n",
            "28/28 [==============================] - 0s 2ms/step - loss: 0.4102 - accuracy: 0.8256\n",
            "Epoch 46/100\n",
            "28/28 [==============================] - 1s 33ms/step - loss: 0.4088 - accuracy: 0.8268\n",
            "Epoch 47/100\n",
            "28/28 [==============================] - 0s 2ms/step - loss: 0.4079 - accuracy: 0.8245\n",
            "Epoch 48/100\n",
            "28/28 [==============================] - 1s 35ms/step - loss: 0.4079 - accuracy: 0.8245\n",
            "Epoch 49/100\n",
            "28/28 [==============================] - 1s 34ms/step - loss: 0.4080 - accuracy: 0.8256\n",
            "Epoch 50/100\n",
            "28/28 [==============================] - 0s 2ms/step - loss: 0.4080 - accuracy: 0.8211\n",
            "Epoch 51/100\n",
            "28/28 [==============================] - 1s 2ms/step - loss: 0.4057 - accuracy: 0.8234\n",
            "Epoch 52/100\n",
            "28/28 [==============================] - 1s 36ms/step - loss: 0.4057 - accuracy: 0.8234\n",
            "Epoch 53/100\n",
            "28/28 [==============================] - 0s 2ms/step - loss: 0.4058 - accuracy: 0.8234\n",
            "Epoch 54/100\n",
            "28/28 [==============================] - 0s 2ms/step - loss: 0.4052 - accuracy: 0.8245\n",
            "Epoch 55/100\n",
            "28/28 [==============================] - 1s 35ms/step - loss: 0.4047 - accuracy: 0.8256\n",
            "Epoch 56/100\n",
            "28/28 [==============================] - 0s 2ms/step - loss: 0.4043 - accuracy: 0.8245\n",
            "Epoch 57/100\n",
            "28/28 [==============================] - 1s 2ms/step - loss: 0.4055 - accuracy: 0.8245\n",
            "Epoch 58/100\n",
            "28/28 [==============================] - 1s 34ms/step - loss: 0.4042 - accuracy: 0.8256\n",
            "Epoch 59/100\n",
            "28/28 [==============================] - 0s 2ms/step - loss: 0.4038 - accuracy: 0.8268\n",
            "Epoch 60/100\n",
            "28/28 [==============================] - 0s 16ms/step - loss: 0.4036 - accuracy: 0.8223\n",
            "Epoch 61/100\n",
            "28/28 [==============================] - 0s 3ms/step - loss: 0.4043 - accuracy: 0.8268\n",
            "Epoch 62/100\n",
            "28/28 [==============================] - 0s 3ms/step - loss: 0.4028 - accuracy: 0.8268\n",
            "Epoch 63/100\n",
            "28/28 [==============================] - 0s 3ms/step - loss: 0.4027 - accuracy: 0.8279\n",
            "Epoch 64/100\n",
            "28/28 [==============================] - 0s 3ms/step - loss: 0.4024 - accuracy: 0.8256\n",
            "Epoch 65/100\n",
            "28/28 [==============================] - 0s 3ms/step - loss: 0.4017 - accuracy: 0.8290\n",
            "Epoch 66/100\n",
            "28/28 [==============================] - 0s 3ms/step - loss: 0.4024 - accuracy: 0.8290\n",
            "Epoch 67/100\n",
            "28/28 [==============================] - 0s 3ms/step - loss: 0.4010 - accuracy: 0.8290\n",
            "Epoch 68/100\n",
            "28/28 [==============================] - 0s 3ms/step - loss: 0.4012 - accuracy: 0.8268\n",
            "Epoch 69/100\n",
            "28/28 [==============================] - 0s 3ms/step - loss: 0.4017 - accuracy: 0.8256\n",
            "Epoch 70/100\n",
            "28/28 [==============================] - 1s 37ms/step - loss: 0.4026 - accuracy: 0.8234\n",
            "Epoch 71/100\n",
            "28/28 [==============================] - 0s 3ms/step - loss: 0.4001 - accuracy: 0.8301\n",
            "Epoch 72/100\n",
            "28/28 [==============================] - 0s 3ms/step - loss: 0.3997 - accuracy: 0.8279\n",
            "Epoch 73/100\n",
            "28/28 [==============================] - 0s 3ms/step - loss: 0.3996 - accuracy: 0.8256\n",
            "Epoch 74/100\n",
            "28/28 [==============================] - 0s 3ms/step - loss: 0.3996 - accuracy: 0.8268\n",
            "Epoch 75/100\n",
            "28/28 [==============================] - 0s 2ms/step - loss: 0.3993 - accuracy: 0.8256\n",
            "Epoch 76/100\n",
            "28/28 [==============================] - 0s 2ms/step - loss: 0.3988 - accuracy: 0.8268\n",
            "Epoch 77/100\n",
            "28/28 [==============================] - 0s 2ms/step - loss: 0.3987 - accuracy: 0.8279\n",
            "Epoch 78/100\n",
            "28/28 [==============================] - 0s 2ms/step - loss: 0.3981 - accuracy: 0.8256\n",
            "Epoch 79/100\n",
            "28/28 [==============================] - 0s 2ms/step - loss: 0.3991 - accuracy: 0.8256\n",
            "Epoch 80/100\n",
            "28/28 [==============================] - 0s 2ms/step - loss: 0.3981 - accuracy: 0.8290\n",
            "Epoch 81/100\n",
            "28/28 [==============================] - 0s 2ms/step - loss: 0.3977 - accuracy: 0.8301\n",
            "Epoch 82/100\n",
            "28/28 [==============================] - 1s 36ms/step - loss: 0.3987 - accuracy: 0.8313\n",
            "Epoch 83/100\n",
            "28/28 [==============================] - 1s 33ms/step - loss: 0.3979 - accuracy: 0.8268\n",
            "Epoch 84/100\n",
            "28/28 [==============================] - 0s 2ms/step - loss: 0.3976 - accuracy: 0.8268\n",
            "Epoch 85/100\n",
            "28/28 [==============================] - 0s 2ms/step - loss: 0.3973 - accuracy: 0.8301\n",
            "Epoch 86/100\n",
            "28/28 [==============================] - 1s 34ms/step - loss: 0.3970 - accuracy: 0.8301\n",
            "Epoch 87/100\n",
            "28/28 [==============================] - 0s 3ms/step - loss: 0.3972 - accuracy: 0.8324\n",
            "Epoch 88/100\n",
            "28/28 [==============================] - 1s 50ms/step - loss: 0.3962 - accuracy: 0.8313\n",
            "Epoch 89/100\n",
            "28/28 [==============================] - 0s 5ms/step - loss: 0.3980 - accuracy: 0.8290\n",
            "Epoch 90/100\n",
            "28/28 [==============================] - 0s 5ms/step - loss: 0.3972 - accuracy: 0.8245\n",
            "Epoch 91/100\n",
            "28/28 [==============================] - 0s 4ms/step - loss: 0.3969 - accuracy: 0.8301\n",
            "Epoch 92/100\n",
            "28/28 [==============================] - 0s 3ms/step - loss: 0.3966 - accuracy: 0.8268\n",
            "Epoch 93/100\n",
            "28/28 [==============================] - 0s 4ms/step - loss: 0.3961 - accuracy: 0.8290\n",
            "Epoch 94/100\n",
            "28/28 [==============================] - 1s 46ms/step - loss: 0.3954 - accuracy: 0.8313\n",
            "Epoch 95/100\n",
            "28/28 [==============================] - 0s 2ms/step - loss: 0.3955 - accuracy: 0.8313\n",
            "Epoch 96/100\n",
            "28/28 [==============================] - 0s 2ms/step - loss: 0.3956 - accuracy: 0.8301\n",
            "Epoch 97/100\n",
            "28/28 [==============================] - 0s 3ms/step - loss: 0.3957 - accuracy: 0.8290\n",
            "Epoch 98/100\n",
            "28/28 [==============================] - 0s 7ms/step - loss: 0.3952 - accuracy: 0.8358\n",
            "Epoch 99/100\n",
            "28/28 [==============================] - 0s 5ms/step - loss: 0.3957 - accuracy: 0.8313\n",
            "Epoch 100/100\n",
            "28/28 [==============================] - 0s 6ms/step - loss: 0.3955 - accuracy: 0.8279\n",
            "14/14 [==============================] - 0s 3ms/step\n"
          ]
        }
      ]
    },
    {
      "cell_type": "code",
      "source": [
        "y_test = y_test_data['Survived']"
      ],
      "metadata": {
        "id": "pxfk8iwhFE2b"
      },
      "execution_count": 51,
      "outputs": []
    },
    {
      "cell_type": "code",
      "source": [
        "# Evaluate ANN model ::\n",
        "cm_ANN = confusion_matrix(y_test, y_pred_ANN)\n",
        "accuracy_ANN = accuracy_score(y_test, y_pred_ANN)\n",
        "\n",
        "print('confusiom matrix:')\n",
        "print(cm_ANN)\n",
        "print('acc is:', accuracy_ANN)\n"
      ],
      "metadata": {
        "colab": {
          "base_uri": "https://localhost:8080/"
        },
        "id": "XMI2iABLlfiS",
        "outputId": "8243918c-ff7d-4013-bd92-c259c07ee274"
      },
      "execution_count": 52,
      "outputs": [
        {
          "output_type": "stream",
          "name": "stdout",
          "text": [
            "confusiom matrix:\n",
            "[[246  20]\n",
            " [ 35 117]]\n",
            "acc is: 0.868421052631579\n"
          ]
        }
      ]
    },
    {
      "cell_type": "code",
      "source": [
        "from sklearn.linear_model import LogisticRegression\n",
        "\n",
        "# Initialize the logistic regression model\n",
        "logistic_regression_model = LogisticRegression()\n",
        "\n",
        "# Fit the model to the training data\n",
        "logistic_regression_model.fit(x_train, y_train)\n",
        "\n",
        "# Make predictions on the testing data\n",
        "y_pred_reg = logistic_regression_model.predict(x_test)\n"
      ],
      "metadata": {
        "id": "CZ91Fx6xb8Ug"
      },
      "execution_count": 53,
      "outputs": []
    },
    {
      "cell_type": "code",
      "source": [
        "# Evaluate Logistic Regression model ::\n",
        "accuracy_reg = accuracy_score(y_test, y_pred_reg)\n",
        "cm_reg = confusion_matrix(y_test,y_pred_reg)\n",
        "\n",
        "print('confusiom matrix:')\n",
        "print(cm_reg)\n",
        "print(\"Accuracy:\", accuracy_reg)\n"
      ],
      "metadata": {
        "colab": {
          "base_uri": "https://localhost:8080/"
        },
        "id": "xhoo-ijfhPfR",
        "outputId": "1ee4fa16-5873-4678-a1f8-1edbce10f43b"
      },
      "execution_count": 54,
      "outputs": [
        {
          "output_type": "stream",
          "name": "stdout",
          "text": [
            "confusiom matrix:\n",
            "[[255  11]\n",
            " [ 11 141]]\n",
            "Accuracy: 0.9473684210526315\n"
          ]
        }
      ]
    },
    {
      "cell_type": "code",
      "source": [
        "# download output files:\n",
        "import csv\n",
        "\n",
        "y_pred_reg = np.array([int(x) for x in y_pred_reg])\n",
        "\n",
        "# Sample data\n",
        "passenger_ids = test['PassengerId'].values\n",
        "\n",
        "# Create a DataFrame from the given data\n",
        "data1 = pd.DataFrame({\n",
        "    'PassengerId': passenger_ids,\n",
        "    'Survived': y_pred_ANN.flatten()  # Flatten the array to match the shape\n",
        "})\n",
        "\n",
        "data2 = pd.DataFrame({\n",
        "    'PassengerId': passenger_ids,\n",
        "    'Survived': y_pred_reg.flatten()  # Flatten the array to match the shape\n",
        "})\n",
        "\n",
        "# Specify the file path\n",
        "csv_file_path1 = 'output_ANN.csv'\n",
        "csv_file_path2 = 'output_reg.csv'\n",
        "\n",
        "# Write the DataFrame to a CSV file\n",
        "data1.to_csv(csv_file_path1, index=False)\n",
        "data2.to_csv(csv_file_path2, index=False)\n",
        "\n",
        "from google.colab import files\n",
        "\n",
        "files.download('output_ANN.csv')\n",
        "files.download('output_reg.csv')\n"
      ],
      "metadata": {
        "colab": {
          "base_uri": "https://localhost:8080/",
          "height": 17
        },
        "id": "X7H06rTmk18F",
        "outputId": "87a8ad9f-154a-4adb-9336-1fb7b702f94f"
      },
      "execution_count": 55,
      "outputs": [
        {
          "output_type": "display_data",
          "data": {
            "text/plain": [
              "<IPython.core.display.Javascript object>"
            ],
            "application/javascript": [
              "\n",
              "    async function download(id, filename, size) {\n",
              "      if (!google.colab.kernel.accessAllowed) {\n",
              "        return;\n",
              "      }\n",
              "      const div = document.createElement('div');\n",
              "      const label = document.createElement('label');\n",
              "      label.textContent = `Downloading \"${filename}\": `;\n",
              "      div.appendChild(label);\n",
              "      const progress = document.createElement('progress');\n",
              "      progress.max = size;\n",
              "      div.appendChild(progress);\n",
              "      document.body.appendChild(div);\n",
              "\n",
              "      const buffers = [];\n",
              "      let downloaded = 0;\n",
              "\n",
              "      const channel = await google.colab.kernel.comms.open(id);\n",
              "      // Send a message to notify the kernel that we're ready.\n",
              "      channel.send({})\n",
              "\n",
              "      for await (const message of channel.messages) {\n",
              "        // Send a message to notify the kernel that we're ready.\n",
              "        channel.send({})\n",
              "        if (message.buffers) {\n",
              "          for (const buffer of message.buffers) {\n",
              "            buffers.push(buffer);\n",
              "            downloaded += buffer.byteLength;\n",
              "            progress.value = downloaded;\n",
              "          }\n",
              "        }\n",
              "      }\n",
              "      const blob = new Blob(buffers, {type: 'application/binary'});\n",
              "      const a = document.createElement('a');\n",
              "      a.href = window.URL.createObjectURL(blob);\n",
              "      a.download = filename;\n",
              "      div.appendChild(a);\n",
              "      a.click();\n",
              "      div.remove();\n",
              "    }\n",
              "  "
            ]
          },
          "metadata": {}
        },
        {
          "output_type": "display_data",
          "data": {
            "text/plain": [
              "<IPython.core.display.Javascript object>"
            ],
            "application/javascript": [
              "download(\"download_b0a02685-ed1d-41e8-9a6f-0a5df8e63c9b\", \"output_ANN.csv\", 2839)"
            ]
          },
          "metadata": {}
        },
        {
          "output_type": "display_data",
          "data": {
            "text/plain": [
              "<IPython.core.display.Javascript object>"
            ],
            "application/javascript": [
              "\n",
              "    async function download(id, filename, size) {\n",
              "      if (!google.colab.kernel.accessAllowed) {\n",
              "        return;\n",
              "      }\n",
              "      const div = document.createElement('div');\n",
              "      const label = document.createElement('label');\n",
              "      label.textContent = `Downloading \"${filename}\": `;\n",
              "      div.appendChild(label);\n",
              "      const progress = document.createElement('progress');\n",
              "      progress.max = size;\n",
              "      div.appendChild(progress);\n",
              "      document.body.appendChild(div);\n",
              "\n",
              "      const buffers = [];\n",
              "      let downloaded = 0;\n",
              "\n",
              "      const channel = await google.colab.kernel.comms.open(id);\n",
              "      // Send a message to notify the kernel that we're ready.\n",
              "      channel.send({})\n",
              "\n",
              "      for await (const message of channel.messages) {\n",
              "        // Send a message to notify the kernel that we're ready.\n",
              "        channel.send({})\n",
              "        if (message.buffers) {\n",
              "          for (const buffer of message.buffers) {\n",
              "            buffers.push(buffer);\n",
              "            downloaded += buffer.byteLength;\n",
              "            progress.value = downloaded;\n",
              "          }\n",
              "        }\n",
              "      }\n",
              "      const blob = new Blob(buffers, {type: 'application/binary'});\n",
              "      const a = document.createElement('a');\n",
              "      a.href = window.URL.createObjectURL(blob);\n",
              "      a.download = filename;\n",
              "      div.appendChild(a);\n",
              "      a.click();\n",
              "      div.remove();\n",
              "    }\n",
              "  "
            ]
          },
          "metadata": {}
        },
        {
          "output_type": "display_data",
          "data": {
            "text/plain": [
              "<IPython.core.display.Javascript object>"
            ],
            "application/javascript": [
              "download(\"download_38795ca4-63f9-4cbf-9d27-8677832fa8b5\", \"output_reg.csv\", 2839)"
            ]
          },
          "metadata": {}
        }
      ]
    }
  ]
}